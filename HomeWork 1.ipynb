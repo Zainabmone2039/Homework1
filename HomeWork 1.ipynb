{
 "cells": [
  {
   "cell_type": "code",
   "execution_count": 7,
   "id": "cbb5a316",
   "metadata": {},
   "outputs": [
    {
     "name": "stdout",
     "output_type": "stream",
     "text": [
      "{'HTTP': 80, 'HTTPS': 443, 'FTP': 21, 'DNS': 53}\n"
     ]
    }
   ],
   "source": [
    "L1 = ['HTTP', 'HTTPS', 'FTP', 'DNS']\n",
    "L2 = [80, 443, 21, 53]\n",
    "d={}\n",
    "for i in range(len(L1)):\n",
    "    d[L1[i]]=L2[i]\n",
    "print(d)"
   ]
  },
  {
   "cell_type": "code",
   "execution_count": 1,
   "id": "6b495a2e",
   "metadata": {},
   "outputs": [
    {
     "name": "stdout",
     "output_type": "stream",
     "text": [
      "Enter a number ## Enter -1 to stop: 3\n",
      "The factorial of 3 is 6\n",
      "Enter a number ## Enter -1 to stop: 11\n",
      "The factorial of 11 is 39916800\n",
      "Enter a number ## Enter -1 to stop: 10\n",
      "The factorial of 10 is 3628800\n",
      "Enter a number ## Enter -1 to stop: 9\n",
      "The factorial of 9 is 362880\n",
      "Enter a number ## Enter -1 to stop: 8\n",
      "The factorial of 8 is 40320\n",
      "Enter a number ## Enter -1 to stop: 7\n",
      "The factorial of 7 is 5040\n",
      "Enter a number ## Enter -1 to stop: 6\n",
      "The factorial of 6 is 720\n",
      "Enter a number ## Enter -1 to stop: 5\n",
      "The factorial of 5 is 120\n",
      "Enter a number ## Enter -1 to stop: 4\n",
      "The factorial of 4 is 24\n",
      "Enter a number ## Enter -1 to stop: 3\n",
      "The factorial of 3 is 6\n",
      "Enter a number ## Enter -1 to stop: 2\n",
      "The factorial of 2 is 2\n",
      "Enter a number ## Enter -1 to stop: 1\n",
      "The factorial of 1 is 1\n",
      "Enter a number ## Enter -1 to stop: 0\n",
      "The factorial of 0 is 1\n",
      "Enter a number ## Enter -1 to stop: aa\n",
      "Error Input\n",
      "Enter a number ## Enter -1 to stop: -5\n",
      "Error Input\n",
      "Enter a number ## Enter -1 to stop: -1\n"
     ]
    }
   ],
   "source": [
    "def func(x):\n",
    "    if x == 0:\n",
    "        return 1\n",
    "    else:\n",
    "        return x * func(x-1)\n",
    "while True:\n",
    "    try:\n",
    "        number = int(input(\"Enter a number ## Enter -1 to stop: \"))\n",
    "        if number == -1:\n",
    "            break\n",
    "        if number<0:\n",
    "            print(\"Error Input\")\n",
    "            continue\n",
    "        result = func(number)\n",
    "        print(f\"The factorial of {number} is {result}\")\n",
    "    except:\n",
    "        print(\"Error Input\")"
   ]
  },
  {
   "cell_type": "code",
   "execution_count": 3,
   "id": "dfb46fc3",
   "metadata": {},
   "outputs": [
    {
     "name": "stdout",
     "output_type": "stream",
     "text": [
      "Bio\n"
     ]
    }
   ],
   "source": [
    "L = ['Network', 'Bio', 'Programming', 'Physics', 'Music']\n",
    "\n",
    "for item in L:\n",
    "    if item.startswith('B'):\n",
    "        print(item)"
   ]
  },
  {
   "cell_type": "code",
   "execution_count": 4,
   "id": "57c2218d",
   "metadata": {},
   "outputs": [
    {
     "name": "stdout",
     "output_type": "stream",
     "text": [
      "{0: 1, 1: 2, 2: 3, 3: 4, 4: 5, 5: 6, 6: 7, 7: 8, 8: 9, 9: 10, 10: 11}\n"
     ]
    }
   ],
   "source": [
    "d = {i: i + 1 for i in range(11)}\n",
    "print(d)"
   ]
  },
  {
   "cell_type": "code",
   "execution_count": 2,
   "id": "6a008bbb",
   "metadata": {},
   "outputs": [
    {
     "name": "stdout",
     "output_type": "stream",
     "text": [
      "Enter a binary number #### s to stop: 111\n",
      "The decimal equivalent of 111 is 7\n",
      "Enter a binary number #### s to stop: 2\n",
      "<class 'ValueError'>\n",
      "The decimal equivalent of 2 is Invalid binary number\n",
      "Enter a binary number #### s to stop: 00\n",
      "The decimal equivalent of 00 is 0\n",
      "Enter a binary number #### s to stop: 0100\n",
      "The decimal equivalent of 0100 is 4\n",
      "Enter a binary number #### s to stop: 10001\n",
      "The decimal equivalent of 10001 is 17\n",
      "Enter a binary number #### s to stop: s\n",
      "Thanks\n"
     ]
    }
   ],
   "source": [
    "def binary_to_decimal(binary_str):\n",
    "    try:\n",
    "        decimal = int(binary_str, 2)\n",
    "        return decimal\n",
    "    except ValueError:\n",
    "        print(ValueError)\n",
    "        return \"Invalid binary number\"\n",
    "while True:\n",
    "    binary_number = input(\"Enter a binary number #### s to stop: \")\n",
    "    if binary_number==\"s\":\n",
    "        print(\"Thanks\")\n",
    "        break\n",
    "    decimal_number = binary_to_decimal(binary_number)\n",
    "    print(f\"The decimal equivalent of {binary_number} is {decimal_number}\")"
   ]
  },
  {
   "cell_type": "code",
   "execution_count": 4,
   "id": "4d7b6548",
   "metadata": {},
   "outputs": [
    {
     "name": "stdout",
     "output_type": "stream",
     "text": [
      "What is the capital of France? paris\n",
      "What is 2 + 2? 4\n",
      "What is the largest planet in our solar system? jupiter\n",
      "What is the square root of 64? 8\n",
      "What is 7 * 6? 42\n",
      "What is the capital of France? paris\n",
      "What is 2 + 2? 4\n",
      "What is the largest planet in our solar system? s\n",
      "What is the square root of 64? s\n",
      "What is 7 * 6? s\n",
      "What is the capital of France? s\n",
      "What is 2 + 2? s\n",
      "What is the largest planet in our solar system? jupiter\n",
      "What is the square root of 64? 8\n",
      "What is 7 * 6? 42\n",
      "Enter your name: ZAINAB\n",
      "ZAINAB, your score is: 10/15\n"
     ]
    }
   ],
   "source": [
    "import json\n",
    "\n",
    "def read_questions(file_path):\n",
    "    questions = []\n",
    "    with open(file_path, 'r') as f:\n",
    "        lines = f.readlines()\n",
    "        for i in range(0, len(lines), 2):\n",
    "            question = lines[i].strip()\n",
    "            answer = lines[i+1].strip()\n",
    "            questions.append({\"question\": question, \"answer\": answer})\n",
    "    return questions\n",
    "\n",
    "def quiz(questions):\n",
    "    score = 0\n",
    "    for q in questions:\n",
    "        user_answer = input(q[\"question\"] + \" \")\n",
    "        if user_answer.lower() == q[\"answer\"].lower():\n",
    "            score += 1\n",
    "    return score\n",
    "\n",
    "def save_results(file_path, user_name, score):\n",
    "    try:\n",
    "        with open(file_path, 'r') as f:\n",
    "            results = json.load(f)\n",
    "    except FileNotFoundError:\n",
    "        results = []\n",
    "\n",
    "    results.append({\"name\": user_name, \"score\": score})\n",
    "\n",
    "    with open(file_path, 'w') as f:\n",
    "        json.dump(results, f, indent=4)\n",
    "\n",
    "def main():\n",
    "    questions_file = 'questions.txt'\n",
    "    results_file = 'results.json'\n",
    "\n",
    "    questions = read_questions(questions_file)\n",
    "    score = quiz(questions)\n",
    "\n",
    "    user_name = input(\"Enter your name: \")\n",
    "    print(f\"{user_name}, your score is: {score}/{len(questions)}\")\n",
    "\n",
    "    save_results(results_file, user_name, score)\n",
    "\n",
    "\n",
    "main()"
   ]
  },
  {
   "cell_type": "code",
   "execution_count": 7,
   "id": "2f0725b3",
   "metadata": {},
   "outputs": [
    {
     "name": "stdout",
     "output_type": "stream",
     "text": [
      "Deposited 1000. Current balance: 1000.0\n",
      "Withdrawn 500. Current balance: 500.0\n",
      "Deposited 700. Current balance: 700.0\n",
      "Current balance: 784.0, Interest rate: 0.12\n"
     ]
    }
   ],
   "source": [
    "class BankAccount:\n",
    "    def __init__(self, account_number, account_holder, balance=0.0):\n",
    "        self.account_number = account_number\n",
    "        self.account_holder = account_holder\n",
    "        self.balance = balance\n",
    "\n",
    "    def deposit(self, amount):\n",
    "        self.balance += amount\n",
    "        print(f\"Deposited {amount}. Current balance: {self.balance}\")\n",
    "\n",
    "    def withdraw(self, amount):\n",
    "        if amount <= self.balance:\n",
    "            self.balance -= amount\n",
    "            print(f\"Withdrawn {amount}. Current balance: {self.balance}\")\n",
    "        else:\n",
    "            print(\"Insufficient funds.\")\n",
    "\n",
    "    def get_balance(self):\n",
    "        return self.balance\n",
    "\n",
    "class SavingsAccount(BankAccount):\n",
    "    def __init__(self, account_number, account_holder, balance=0.0, interest_rate=0.01):\n",
    "        super().__init__(account_number, account_holder, balance)\n",
    "        self.interest_rate = interest_rate\n",
    "\n",
    "    def apply_interest(self):\n",
    "        self.balance += self.balance * self.interest_rate\n",
    "\n",
    "    def __str__(self):\n",
    "        return f\"Current balance: {self.balance}, Interest rate: {self.interest_rate}\"\n",
    "\n",
    "# إنشاء حساب بنكي \n",
    "Zainab=BankAccount(\"2379\",\"Zainab muna\")\n",
    "Zainab.deposit(1000)\n",
    "Zainab.withdraw(500)\n",
    "\n",
    "Z=SavingsAccount(\"2379\",\"Zainab muna\",interest_rate=0.12)\n",
    "Z.deposit(700)\n",
    "Z.apply_interest()\n",
    "\n",
    "print(Z)"
   ]
  },
  {
   "cell_type": "code",
   "execution_count": null,
   "id": "d6016a41",
   "metadata": {},
   "outputs": [],
   "source": []
  }
 ],
 "metadata": {
  "kernelspec": {
   "display_name": "Python 3 (ipykernel)",
   "language": "python",
   "name": "python3"
  },
  "language_info": {
   "codemirror_mode": {
    "name": "ipython",
    "version": 3
   },
   "file_extension": ".py",
   "mimetype": "text/x-python",
   "name": "python",
   "nbconvert_exporter": "python",
   "pygments_lexer": "ipython3",
   "version": "3.11.2"
  }
 },
 "nbformat": 4,
 "nbformat_minor": 5
}
